{
    "cells": [
        {
            "cell_type": "markdown",
            "metadata": {},
            "source": [
                "# Testing Study Functions\n"
            ]
        },
        {
            "cell_type": "markdown",
            "metadata": {},
            "source": [
                "## Test repeatability"
            ]
        },
        {
            "cell_type": "markdown",
            "metadata": {},
            "source": []
        },
        {
            "cell_type": "code",
            "execution_count": null,
            "metadata": {},
            "outputs": [],
            "source": [
                "from in_out import grbl\n",
                "#from in_out import transport\n",
                "import importlib\n",
                "importlib.reload(grbl)\n",
                "\n",
                "with grbl.Grbl('COM6') as transport:\n",
                "    #transport.debug = True\n",
                "    transport.reset()\n",
                "    transport.send_gcode('G91')\n",
                "    \n",
                "    for i in range(3):\n",
                "        transport.send_gcode('X30 Y-30')\n",
                "        transport.send_gcode('X-30 Y30')\n",
                "        transport.send_gcode('X-30 Y30')\n",
                "        transport.send_gcode('X30 Y-30')\n",
                "        \n",
                "        #transport.send_gcode('G4 P2.0')\n",
                "        \n",
                "        transport.send_gcode('X-30 Y-30')\n",
                "        transport.send_gcode('X30 Y30')\n",
                "        transport.send_gcode('X30 Y30')\n",
                "        transport.send_gcode('X-30 Y-30')"
            ]
        },
        {
            "cell_type": "markdown",
            "metadata": {},
            "source": [
                "## Test Plotter Reset"
            ]
        },
        {
            "cell_type": "code",
            "execution_count": null,
            "metadata": {},
            "outputs": [],
            "source": [
                "from in_out import grbl\n",
                "from Study_rpi.code import plotter\n",
                "import importlib\n",
                "importlib.reload(plotter)\n",
                "\n",
                "with grbl.Grbl('COM6') as transport:\n",
                "    with plotter.Plotter(transport) as plotter:\n",
                "        plotter.reset()\n",
                "    "
            ]
        },
        {
            "cell_type": "markdown",
            "metadata": {},
            "source": [
                "## Test Plot Speed"
            ]
        },
        {
            "cell_type": "code",
            "execution_count": 4,
            "metadata": {},
            "outputs": [],
            "source": [
                "import time\n",
                "from utilities import constants\n",
                "from in_out import grbl\n",
                "from Study_rpi.code import plotter\n",
                "import importlib\n",
                "importlib.reload(plotter)\n",
                "\n",
                "with grbl.Grbl('COM6') as transport:\n",
                "    plotter = plotter.Plotter(transport, capture_gcode=False)\n",
                "    plotter.reset(speed=3000, acceleration=3000)\n",
                "    \n",
                "    for i in range(3):\n",
                "        plotter.plot(20, 20)\n",
                "        #time.sleep(2.5)\n",
                "        plotter.plot(400, 300)\n",
                "        #time.sleep(2.5)\n",
                "    plotter.plot(20, 20)\n"
            ]
        },
        {
            "cell_type": "markdown",
            "metadata": {},
            "source": [
                "## Test streamer - Status: working"
            ]
        },
        {
            "cell_type": "code",
            "execution_count": null,
            "metadata": {},
            "outputs": [],
            "source": [
                "\n",
                "import time\n",
                "import importlib\n",
                "from in_out import grbl\n",
                "importlib.reload(grbl)\n",
                "\n",
                "#gcodeFile = 'C:\\\\Users\\\\Jeff\\\\OneDrive\\\\Dev\\\\Bots\\\\Src\\\\jandi\\\\in_out\\\\gcode_short.txt'\n",
                "gcodeFile = 'C:\\\\Users\\\\jeffb\\\\OneDrive\\\\Dev\\\\Bots\\\\Src\\\\Cbk-rpi\\\\misc\\\\to_startpos.txt'\n",
                "gcodeFile2 = 'C:\\\\Users\\\\Jeffb\\\\OneDrive\\\\Dev\\\\Bots\\\\Src\\\\CBk-rpi\\\\misc\\\\twitch1.txt'\n",
                "\n",
                "with grbl.Grbl('COM6') as transport:\n",
                "    #transport.debug = True\n",
                "    transport.home()\n",
                "    transport._serial.write(b'\\r\\n\\r\\n')\n",
                "    time.sleep(2)\n",
                "    transport.set_and_goto_startpos('X-50 Z-50 Y-40')\n",
                "    #transport.send_gcode('G54') # set work coordinate system\n",
                "    #transport.waitfor_idle()\n",
                "    #transport.run(gcodeFile, 1)\n",
                "    transport.run(gcodeFile2, 15)\n",
                "    transport.waitfor_idle()\n",
                "    print('done')\n",
                "    "
            ]
        }
    ],
    "metadata": {
        "interpreter": {
            "hash": "ab919eb6f4fdb3cc4d946f778088925dbcb5d1a2d71147450f362cd5d0d6d8a8"
        },
        "kernelspec": {
            "display_name": "Python 3.7.8 64-bit ('venv': venv)",
            "name": "python3"
        },
        "language_info": {
            "codemirror_mode": {
                "name": "ipython",
                "version": 3
            },
            "file_extension": ".py",
            "mimetype": "text/x-python",
            "name": "python",
            "nbconvert_exporter": "python",
            "pygments_lexer": "ipython3",
            "version": "3.7.9"
        },
        "orig_nbformat": 4
    },
    "nbformat": 4,
    "nbformat_minor": 2
}

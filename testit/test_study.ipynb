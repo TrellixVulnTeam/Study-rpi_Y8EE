{
    "cells": [
        {
            "cell_type": "markdown",
            "metadata": {},
            "source": [
                "# Testing Study Functions\n"
            ]
        },
        {
            "cell_type": "markdown",
            "metadata": {},
            "source": [
                "## Test repeatability"
            ]
        },
        {
            "cell_type": "markdown",
            "metadata": {},
            "source": []
        },
        {
            "cell_type": "code",
            "execution_count": null,
            "metadata": {},
            "outputs": [],
            "source": [
                "from in_out import grbl\n",
                "#from in_out import transport\n",
                "import importlib\n",
                "importlib.reload(grbl)\n",
                "\n",
                "with grbl.Grbl('COM6') as transport:\n",
                "    #transport.debug = True\n",
                "    transport.reset()\n",
                "    transport.send_gcode('G91')\n",
                "    \n",
                "    for i in range(3):\n",
                "        transport.send_gcode('X30 Y-30')\n",
                "        transport.send_gcode('X-30 Y30')\n",
                "        transport.send_gcode('X-30 Y30')\n",
                "        transport.send_gcode('X30 Y-30')\n",
                "        \n",
                "        #transport.send_gcode('G4 P2.0')\n",
                "        \n",
                "        transport.send_gcode('X-30 Y-30')\n",
                "        transport.send_gcode('X30 Y30')\n",
                "        transport.send_gcode('X30 Y30')\n",
                "        transport.send_gcode('X-30 Y-30')"
            ]
        },
        {
            "cell_type": "markdown",
            "metadata": {},
            "source": [
                "## Test Plotter Reset"
            ]
        },
        {
            "cell_type": "code",
            "execution_count": null,
            "metadata": {},
            "outputs": [],
            "source": [
                "from in_out import grbl\n",
                "from Study_rpi.code import plotter\n",
                "import importlib\n",
                "importlib.reload(plotter)\n",
                "\n",
                "with grbl.Grbl('COM6') as transport:\n",
                "    with plotter.Plotter(transport) as plotter:\n",
                "        plotter.reset()\n",
                "    "
            ]
        },
        {
            "cell_type": "markdown",
            "metadata": {},
            "source": [
                "## Test Plot Speed"
            ]
        },
        {
            "cell_type": "code",
            "execution_count": null,
            "metadata": {},
            "outputs": [],
            "source": [
                "import time\n",
                "from utilities import constants\n",
                "from in_out import grbl\n",
                "from Study_rpi.code import plotter\n",
                "import importlib\n",
                "importlib.reload(plotter)\n",
                "\n",
                "with grbl.Grbl('COM6') as transport:\n",
                "    plotter = plotter.Plotter(transport, capture_gcode=False)\n",
                "    plotter.reset(speed=3000, acceleration=3000)\n",
                "    \n",
                "    for i in range(3):\n",
                "        plotter.plot(20, 20)\n",
                "        #time.sleep(2.5)\n",
                "        plotter.plot(400, 300)\n",
                "        #time.sleep(2.5)\n",
                "    plotter.plot(20, 20)\n"
            ]
        },
        {
            "cell_type": "markdown",
            "metadata": {},
            "source": [
                "# Test Inheritance"
            ]
        },
        {
            "cell_type": "code",
            "execution_count": null,
            "metadata": {},
            "outputs": [],
            "source": [
                "class Parent():\n",
                "    def __init__(self, x=100, y=200):\n",
                "        self.x = x\n",
                "        self.y = y\n",
                "        \n",
                "class Child(Parent):\n",
                "    def __init__(self, x=1, y=2):\n",
                "        super().__init__()\n",
                "        self.x = x\n",
                "        self.y = y\n",
                "        self.z = 30\n",
                "        \n",
                "    def show(self):\n",
                "        print(self.x, self.y, self.z)\n",
                "    \n",
                "testit = Child()\n",
                "testit.show()"
            ]
        },
        {
            "cell_type": "markdown",
            "metadata": {},
            "source": [
                "# Test plot simple breathiing"
            ]
        },
        {
            "cell_type": "code",
            "execution_count": null,
            "metadata": {},
            "outputs": [],
            "source": [
                "import time\n",
                "from utilities import constants\n",
                "from in_out import grbl, breath\n",
                "from Study_rpi.code import plotter\n",
                "import importlib\n",
                "importlib.reload(breath)\n",
                "importlib.reload(plotter)\n",
                "\n",
                "with grbl.Grbl('COM6') as transport:\n",
                "    plotter = plotter.Plotter(transport, capture_gcode=False)\n",
                "    plotter.reset(speed=5000, acceleration=5000)\n",
                "    breath = breath.BasicBreathTwoAxes(transport, x_scaling=1.0, y_scaling=1.5, axes=('X','Y'))\n",
                "    breath.breathe(total_breathes=5, capture_gcode=False)\n",
                "    \n"
            ]
        },
        {
            "cell_type": "markdown",
            "metadata": {},
            "source": [
                "# Test Inkscape Circle "
            ]
        },
        {
            "cell_type": "code",
            "execution_count": null,
            "metadata": {},
            "outputs": [],
            "source": [
                "import time\n",
                "from utilities import constants\n",
                "from in_out import grbl\n",
                "from Study_rpi.code import plotter\n",
                "import importlib\n",
                "importlib.reload(plotter)\n",
                "\n",
                "gcodeFile = 'C:\\\\Dropbox\\\\Dev\\\\Bots\\\\GCode\\\\circle3_1.ngc'\n",
                "\n",
                "with grbl.Grbl('COM6') as transport:\n",
                "    plotter = plotter.Plotter(transport, capture_gcode=False)\n",
                "    plotter.reset(speed=3000, acceleration=3000)\n",
                "    \n",
                "    #transport.debug = True\n",
                "    transport.run(gcodeFile, 3)\n",
                "    #time.sleep(6)\n",
                "    #transport.wait_for_idle()\n",
                "    \n",
                "\n"
            ]
        },
        {
            "cell_type": "markdown",
            "metadata": {},
            "source": [
                "# Test Spiral"
            ]
        },
        {
            "cell_type": "code",
            "execution_count": 5,
            "metadata": {},
            "outputs": [
                {
                    "name": "stdout",
                    "output_type": "stream",
                    "text": [
                        "run[1]: C:\\Dropbox\\Dev\\Bots\\GCode\\spiral1.ngc\n",
                        "Initializing grbl...\n",
                        "SND>1: \"G00X115.247423Y139.619107\"\n",
                        "SND>2: \"\"\n",
                        "SND>3: \"G02X112.421976Y143.933414I0.136119J3.171492F400.000000\"\n",
                        "  RCV<1: \"ok\"\n",
                        "SND>4: \"G02X115.591659Y147.639610I6.835984J-2.637882\"\n",
                        "  RCV<2: \"ok\"\n",
                        "  RCV<3: \"ok\"\n",
                        "SND>5: \"G02X125.757535Y147.049374I4.634465J-8.019352\"\n",
                        "  RCV<4: \"ok\"\n",
                        "SND>6: \"G02X131.288431Y138.930636I-8.980192J-12.061096\"\n",
                        "  RCV<5: \"ok\"\n",
                        "SND>7: \"G02X127.851828Y123.344760I-16.603515J-4.510827\"\n",
                        "  RCV<6: \"ok\"\n",
                        "SND>8: \"G02X114.214718Y115.557593I-17.398535J14.634383\"\n",
                        "  RCV<7: \"ok\"\n",
                        "SND>9: \"G02X93.134671Y121.689977I-4.181286J24.924330\"\n",
                        "  RCV<8: \"ok\"\n",
                        "SND>10: \"G02X83.165406Y140.996048I20.527113J22.826786\"\n",
                        "  RCV<9: \"ok\"\n",
                        "SND>11: \"G02X91.945470Y167.601680I33.115734J3.823112\"\n",
                        "  RCV<10: \"ok\"\n",
                        "SND>12: \"G02X116.968596Y179.721627I28.261573J-26.457863\"\n",
                        "  RCV<11: \"ok\"\n",
                        "SND>13: \"G02X149.115251Y168.314839I3.462259J-41.243954\"\n",
                        "  RCV<12: \"ok\"\n",
                        "SND>14: \"G02X163.370448Y137.553698I-32.393394J-33.695221\"\n",
                        "  RCV<13: \"ok\"\n",
                        "SND>15: \"G02X149.347879Y99.857356I-49.337831J-3.103224\"\n",
                        "  RCV<14: \"ok\"\n",
                        "SND>16: \"G02X112.837778Y83.475576I-39.127361J38.327265\"\n",
                        "  RCV<15: \"ok\"\n",
                        "SND>17: \"G02X69.586405Y100.107503I-2.746531J57.411259\"\n",
                        "  RCV<16: \"ok\"\n",
                        "SND>18: \"G02X51.083389Y142.372985I44.258441J44.558369\"\n",
                        "  RCV<17: \"ok\"\n",
                        "SND>19: \"G02X70.320589Y191.182914I65.471646J2.391898\"\n",
                        "  RCV<18: \"ok\"\n",
                        "SND>20: \"G02X118.345536Y211.803644I49.988587J-50.187080\"\n",
                        "  RCV<19: \"ok\"\n",
                        "SND>21: \"G02X172.716466Y189.963929I2.038947J-73.523220\"\n",
                        "  RCV<20: \"ok\"\n",
                        "SND>22: \"G02X195.452465Y136.176758I-56.113599J-55.418260\"\n"
                    ]
                },
                {
                    "ename": "KeyboardInterrupt",
                    "evalue": "",
                    "output_type": "error",
                    "traceback": [
                        "\u001b[1;31m---------------------------------------------------------------------------\u001b[0m",
                        "\u001b[1;31mKeyboardInterrupt\u001b[0m                         Traceback (most recent call last)",
                        "\u001b[1;32m~\\AppData\\Local\\Temp\\ipykernel_38836\\1490993641.py\u001b[0m in \u001b[0;36m<module>\u001b[1;34m\u001b[0m\n\u001b[0;32m     13\u001b[0m \u001b[1;33m\u001b[0m\u001b[0m\n\u001b[0;32m     14\u001b[0m     \u001b[1;31m#transport.debug = True\u001b[0m\u001b[1;33m\u001b[0m\u001b[1;33m\u001b[0m\u001b[1;33m\u001b[0m\u001b[0m\n\u001b[1;32m---> 15\u001b[1;33m     \u001b[0mtransport\u001b[0m\u001b[1;33m.\u001b[0m\u001b[0mrun\u001b[0m\u001b[1;33m(\u001b[0m\u001b[0mgcodeFile\u001b[0m\u001b[1;33m,\u001b[0m \u001b[1;36m3\u001b[0m\u001b[1;33m)\u001b[0m\u001b[1;33m\u001b[0m\u001b[1;33m\u001b[0m\u001b[0m\n\u001b[0m\u001b[0;32m     16\u001b[0m     \u001b[1;31m#time.sleep(6)\u001b[0m\u001b[1;33m\u001b[0m\u001b[1;33m\u001b[0m\u001b[1;33m\u001b[0m\u001b[0m\n\u001b[0;32m     17\u001b[0m     \u001b[1;31m#transport.wait_for_idle()\u001b[0m\u001b[1;33m\u001b[0m\u001b[1;33m\u001b[0m\u001b[1;33m\u001b[0m\u001b[0m\n",
                        "\u001b[1;32mC:\\Dropbox\\Dev\\Bots\\Src\\jandi\\in_out\\grbl.py\u001b[0m in \u001b[0;36mrun\u001b[1;34m(self, filename, numtimes)\u001b[0m\n\u001b[0;32m    207\u001b[0m         \u001b[1;32mfor\u001b[0m \u001b[0mi\u001b[0m \u001b[1;32min\u001b[0m \u001b[0mrange\u001b[0m\u001b[1;33m(\u001b[0m\u001b[1;36m1\u001b[0m\u001b[1;33m,\u001b[0m \u001b[0mnumtimes\u001b[0m\u001b[1;33m+\u001b[0m\u001b[1;36m1\u001b[0m\u001b[1;33m)\u001b[0m\u001b[1;33m:\u001b[0m\u001b[1;33m\u001b[0m\u001b[1;33m\u001b[0m\u001b[0m\n\u001b[0;32m    208\u001b[0m             \u001b[0mprint\u001b[0m\u001b[1;33m(\u001b[0m\u001b[1;34mf'run[{i}]: {filename}'\u001b[0m\u001b[1;33m)\u001b[0m\u001b[1;33m\u001b[0m\u001b[1;33m\u001b[0m\u001b[0m\n\u001b[1;32m--> 209\u001b[1;33m             \u001b[0mself\u001b[0m\u001b[1;33m.\u001b[0m\u001b[0mrun_file\u001b[0m\u001b[1;33m(\u001b[0m\u001b[0mfilename\u001b[0m\u001b[1;33m)\u001b[0m\u001b[1;33m\u001b[0m\u001b[1;33m\u001b[0m\u001b[0m\n\u001b[0m\u001b[0;32m    210\u001b[0m             \u001b[1;31m#time.sleep(1)\u001b[0m\u001b[1;33m\u001b[0m\u001b[1;33m\u001b[0m\u001b[1;33m\u001b[0m\u001b[0m\n\u001b[0;32m    211\u001b[0m \u001b[1;33m\u001b[0m\u001b[0m\n",
                        "\u001b[1;32mC:\\Dropbox\\Dev\\Bots\\Src\\jandi\\in_out\\grbl.py\u001b[0m in \u001b[0;36mrun_file\u001b[1;34m(self, fileName, verbose)\u001b[0m\n\u001b[0;32m    309\u001b[0m                 \u001b[0mgrbl_out\u001b[0m \u001b[1;33m=\u001b[0m \u001b[1;34m''\u001b[0m\u001b[1;33m\u001b[0m\u001b[1;33m\u001b[0m\u001b[0m\n\u001b[0;32m    310\u001b[0m                 \u001b[1;32mwhile\u001b[0m \u001b[0msum\u001b[0m\u001b[1;33m(\u001b[0m\u001b[0mc_line\u001b[0m\u001b[1;33m)\u001b[0m \u001b[1;33m>=\u001b[0m \u001b[0mself\u001b[0m\u001b[1;33m.\u001b[0m\u001b[0mRX_BUFFER_SIZE\u001b[0m\u001b[1;33m-\u001b[0m\u001b[1;36m1\u001b[0m \u001b[1;33m|\u001b[0m \u001b[0ms\u001b[0m\u001b[1;33m.\u001b[0m\u001b[0minWaiting\u001b[0m\u001b[1;33m(\u001b[0m\u001b[1;33m)\u001b[0m \u001b[1;33m:\u001b[0m\u001b[1;33m\u001b[0m\u001b[1;33m\u001b[0m\u001b[0m\n\u001b[1;32m--> 311\u001b[1;33m                     \u001b[0mout_temp\u001b[0m \u001b[1;33m=\u001b[0m \u001b[0ms\u001b[0m\u001b[1;33m.\u001b[0m\u001b[0mreadline\u001b[0m\u001b[1;33m(\u001b[0m\u001b[1;33m)\u001b[0m\u001b[1;33m.\u001b[0m\u001b[0mstrip\u001b[0m\u001b[1;33m(\u001b[0m\u001b[1;33m)\u001b[0m\u001b[1;33m.\u001b[0m\u001b[0mdecode\u001b[0m\u001b[1;33m(\u001b[0m\u001b[1;34m'utf'\u001b[0m\u001b[1;33m)\u001b[0m \u001b[1;31m# Wait for grbl response\u001b[0m\u001b[1;33m\u001b[0m\u001b[1;33m\u001b[0m\u001b[0m\n\u001b[0m\u001b[0;32m    312\u001b[0m                     \u001b[1;32mif\u001b[0m \u001b[0mout_temp\u001b[0m\u001b[1;33m.\u001b[0m\u001b[0mfind\u001b[0m\u001b[1;33m(\u001b[0m\u001b[1;34m'ok'\u001b[0m\u001b[1;33m)\u001b[0m \u001b[1;33m<\u001b[0m \u001b[1;36m0\u001b[0m \u001b[1;32mand\u001b[0m \u001b[0mout_temp\u001b[0m\u001b[1;33m.\u001b[0m\u001b[0mfind\u001b[0m\u001b[1;33m(\u001b[0m\u001b[1;34m'error'\u001b[0m\u001b[1;33m)\u001b[0m \u001b[1;33m<\u001b[0m \u001b[1;36m0\u001b[0m \u001b[1;33m:\u001b[0m\u001b[1;33m\u001b[0m\u001b[1;33m\u001b[0m\u001b[0m\n\u001b[0;32m    313\u001b[0m                         \u001b[0mprint\u001b[0m\u001b[1;33m(\u001b[0m\u001b[1;34mf'    MSG2: \"{out_temp}\"'\u001b[0m\u001b[1;33m)\u001b[0m \u001b[1;31m# Debug response\u001b[0m\u001b[1;33m\u001b[0m\u001b[1;33m\u001b[0m\u001b[0m\n",
                        "\u001b[1;32m~\\AppData\\Local\\Packages\\PythonSoftwareFoundation.Python.3.7_qbz5n2kfra8p0\\LocalCache\\local-packages\\Python37\\site-packages\\serial\\serialwin32.py\u001b[0m in \u001b[0;36mread\u001b[1;34m(self, size)\u001b[0m\n\u001b[0;32m    290\u001b[0m                     \u001b[0mctypes\u001b[0m\u001b[1;33m.\u001b[0m\u001b[0mbyref\u001b[0m\u001b[1;33m(\u001b[0m\u001b[0mself\u001b[0m\u001b[1;33m.\u001b[0m\u001b[0m_overlapped_read\u001b[0m\u001b[1;33m)\u001b[0m\u001b[1;33m,\u001b[0m\u001b[1;33m\u001b[0m\u001b[1;33m\u001b[0m\u001b[0m\n\u001b[0;32m    291\u001b[0m                     \u001b[0mctypes\u001b[0m\u001b[1;33m.\u001b[0m\u001b[0mbyref\u001b[0m\u001b[1;33m(\u001b[0m\u001b[0mrc\u001b[0m\u001b[1;33m)\u001b[0m\u001b[1;33m,\u001b[0m\u001b[1;33m\u001b[0m\u001b[1;33m\u001b[0m\u001b[0m\n\u001b[1;32m--> 292\u001b[1;33m                     True)\n\u001b[0m\u001b[0;32m    293\u001b[0m                 \u001b[1;32mif\u001b[0m \u001b[1;32mnot\u001b[0m \u001b[0mresult_ok\u001b[0m\u001b[1;33m:\u001b[0m\u001b[1;33m\u001b[0m\u001b[1;33m\u001b[0m\u001b[0m\n\u001b[0;32m    294\u001b[0m                     \u001b[1;32mif\u001b[0m \u001b[0mwin32\u001b[0m\u001b[1;33m.\u001b[0m\u001b[0mGetLastError\u001b[0m\u001b[1;33m(\u001b[0m\u001b[1;33m)\u001b[0m \u001b[1;33m!=\u001b[0m \u001b[0mwin32\u001b[0m\u001b[1;33m.\u001b[0m\u001b[0mERROR_OPERATION_ABORTED\u001b[0m\u001b[1;33m:\u001b[0m\u001b[1;33m\u001b[0m\u001b[1;33m\u001b[0m\u001b[0m\n",
                        "\u001b[1;31mKeyboardInterrupt\u001b[0m: "
                    ]
                }
            ],
            "source": [
                "import time\n",
                "from utilities import constants\n",
                "from in_out import grbl\n",
                "from Study_rpi.code import plotter\n",
                "import importlib\n",
                "importlib.reload(plotter)\n",
                "\n",
                "gcodeFile = 'C:\\\\Dropbox\\\\Dev\\\\Bots\\\\GCode\\\\spiral1.ngc'\n",
                "\n",
                "with grbl.Grbl('COM6') as transport:\n",
                "    plotter = plotter.Plotter(transport, capture_gcode=False)\n",
                "    plotter.reset(speed=3000, acceleration=3000)\n",
                "    \n",
                "    #transport.debug = True\n",
                "    transport.run(gcodeFile, 3)\n",
                "    #time.sleep(6)\n",
                "    #transport.wait_for_idle()"
            ]
        },
        {
            "cell_type": "markdown",
            "metadata": {},
            "source": [
                "## Test streamer - Status: working"
            ]
        },
        {
            "cell_type": "code",
            "execution_count": null,
            "metadata": {},
            "outputs": [],
            "source": [
                "\n",
                "import time\n",
                "import importlib\n",
                "from in_out import grbl\n",
                "importlib.reload(grbl)\n",
                "\n",
                "#gcodeFile = 'C:\\\\Users\\\\Jeff\\\\OneDrive\\\\Dev\\\\Bots\\\\Src\\\\jandi\\\\in_out\\\\gcode_short.txt'\n",
                "gcodeFile = 'C:\\\\Users\\\\jeffb\\\\OneDrive\\\\Dev\\\\Bots\\\\Src\\\\Cbk-rpi\\\\misc\\\\to_startpos.txt'\n",
                "gcodeFile2 = 'C:\\\\Users\\\\Jeffb\\\\OneDrive\\\\Dev\\\\Bots\\\\Src\\\\CBk-rpi\\\\misc\\\\twitch1.txt'\n",
                "\n",
                "with grbl.Grbl('COM6') as transport:\n",
                "    #transport.debug = True\n",
                "    transport.home()\n",
                "    transport._serial.write(b'\\r\\n\\r\\n')\n",
                "    time.sleep(2)\n",
                "    transport.set_and_goto_startpos('X-50 Z-50 Y-40')\n",
                "    #transport.send_gcode('G54') # set work coordinate system\n",
                "    #transport.waitfor_idle()\n",
                "    #transport.run(gcodeFile, 1)\n",
                "    transport.run(gcodeFile2, 15)\n",
                "    transport.waitfor_idle()\n",
                "    print('done')\n",
                "    "
            ]
        }
    ],
    "metadata": {
        "interpreter": {
            "hash": "ab919eb6f4fdb3cc4d946f778088925dbcb5d1a2d71147450f362cd5d0d6d8a8"
        },
        "kernelspec": {
            "display_name": "Python 3.7.8 64-bit ('venv': venv)",
            "name": "python3"
        },
        "language_info": {
            "codemirror_mode": {
                "name": "ipython",
                "version": 3
            },
            "file_extension": ".py",
            "mimetype": "text/x-python",
            "name": "python",
            "nbconvert_exporter": "python",
            "pygments_lexer": "ipython3",
            "version": "3.7.9"
        },
        "orig_nbformat": 4
    },
    "nbformat": 4,
    "nbformat_minor": 2
}

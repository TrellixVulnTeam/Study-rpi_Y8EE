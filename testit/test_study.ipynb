{
    "cells": [
        {
            "cell_type": "markdown",
            "metadata": {},
            "source": [
                "# Testing Study Functions\n"
            ]
        },
        {
            "cell_type": "markdown",
            "metadata": {},
            "source": [
                "## Test repeatability"
            ]
        },
        {
            "cell_type": "markdown",
            "metadata": {},
            "source": []
        },
        {
            "cell_type": "code",
            "execution_count": null,
            "metadata": {},
            "outputs": [],
            "source": [
                "from in_out import grbl\n",
                "#from in_out import transport\n",
                "import importlib\n",
                "importlib.reload(grbl)\n",
                "\n",
                "with grbl.Grbl('COM6') as transport:\n",
                "    #transport.debug = True\n",
                "    transport.reset()\n",
                "    transport.send_gcode('G91')\n",
                "    \n",
                "    for i in range(3):\n",
                "        transport.send_gcode('X30 Y-30')\n",
                "        transport.send_gcode('X-30 Y30')\n",
                "        transport.send_gcode('X-30 Y30')\n",
                "        transport.send_gcode('X30 Y-30')\n",
                "        \n",
                "        #transport.send_gcode('G4 P2.0')\n",
                "        \n",
                "        transport.send_gcode('X-30 Y-30')\n",
                "        transport.send_gcode('X30 Y30')\n",
                "        transport.send_gcode('X30 Y30')\n",
                "        transport.send_gcode('X-30 Y-30')"
            ]
        },
        {
            "cell_type": "markdown",
            "metadata": {},
            "source": [
                "## Test Plotter Reset"
            ]
        },
        {
            "cell_type": "code",
            "execution_count": null,
            "metadata": {},
            "outputs": [],
            "source": [
                "from in_out import grbl\n",
                "from Study_rpi.code import plotter\n",
                "import importlib\n",
                "importlib.reload(plotter)\n",
                "\n",
                "with grbl.Grbl('COM6') as transport:\n",
                "    with plotter.Plotter(transport) as plotter:\n",
                "        plotter.reset()\n",
                "    "
            ]
        },
        {
            "cell_type": "markdown",
            "metadata": {},
            "source": [
                "## Test Plot Speed"
            ]
        },
        {
            "cell_type": "code",
            "execution_count": null,
            "metadata": {},
            "outputs": [],
            "source": [
                "import time\n",
                "from utilities import constants\n",
                "from in_out import grbl\n",
                "from Study_rpi.code import plotter\n",
                "import importlib\n",
                "importlib.reload(plotter)\n",
                "\n",
                "with grbl.Grbl('COM6') as transport:\n",
                "    plotter = plotter.Plotter(transport, capture_gcode=False)\n",
                "    plotter.reset(speed=3000, acceleration=3000)\n",
                "    \n",
                "    for i in range(3):\n",
                "        plotter.plot(20, 20)\n",
                "        #time.sleep(2.5)\n",
                "        plotter.plot(400, 300)\n",
                "        #time.sleep(2.5)\n",
                "    plotter.plot(20, 20)\n"
            ]
        },
        {
            "cell_type": "markdown",
            "metadata": {},
            "source": [
                "# Test Inheritance"
            ]
        },
        {
            "cell_type": "code",
            "execution_count": null,
            "metadata": {},
            "outputs": [],
            "source": [
                "class Parent():\n",
                "    def __init__(self, x=100, y=200):\n",
                "        self.x = x\n",
                "        self.y = y\n",
                "        \n",
                "class Child(Parent):\n",
                "    def __init__(self, x=1, y=2):\n",
                "        super().__init__()\n",
                "        self.x = x\n",
                "        self.y = y\n",
                "        self.z = 30\n",
                "        \n",
                "    def show(self):\n",
                "        print(self.x, self.y, self.z)\n",
                "    \n",
                "testit = Child()\n",
                "testit.show()"
            ]
        },
        {
            "cell_type": "markdown",
            "metadata": {},
            "source": [
                "# Test plot simple breathiing"
            ]
        },
        {
            "cell_type": "code",
            "execution_count": null,
            "metadata": {},
            "outputs": [],
            "source": [
                "import time\n",
                "from utilities import constants\n",
                "from in_out import grbl, breath\n",
                "from Study_rpi.code import plotter\n",
                "import importlib\n",
                "importlib.reload(breath)\n",
                "importlib.reload(plotter)\n",
                "\n",
                "with grbl.Grbl('COM6') as transport:\n",
                "    plotter = plotter.Plotter(transport, capture_gcode=False)\n",
                "    plotter.reset(speed=5000, acceleration=5000)\n",
                "    breath = breath.BasicBreathTwoAxes(transport, x_scaling=1.0, y_scaling=1.5, axes=('X','Y'))\n",
                "    breath.breathe(total_breathes=5, capture_gcode=False)\n",
                "    \n"
            ]
        },
        {
            "cell_type": "markdown",
            "metadata": {},
            "source": [
                "# Test Inkscape Plots"
            ]
        },
        {
            "cell_type": "code",
            "execution_count": null,
            "metadata": {},
            "outputs": [],
            "source": [
                "import time\n",
                "from utilities import constants\n",
                "from in_out import grbl\n",
                "from Study_rpi.code import plotter\n",
                "import importlib\n",
                "importlib.reload(plotter)\n",
                "\n",
                "#gcodeFile = 'C:\\\\Dropbox\\\\Dev\\\\Bots\\\\GCode\\\\circle3_1.ngc'\n",
                "#gcodeFile = 'C:\\\\Dropbox\\\\Dev\\\\Bots\\\\GCode\\\\spiral1.ngc'\n",
                "#gcodeFile = 'C:\\\\Dropbox\\\\Dev\\\\Bots\\\\GCode\\\\test_bezier.ngc'\n",
                "gcodeFile = 'C:\\\\Dropbox\\\\Dev\\\\Bots\\\\GCode\\\\test3.ngc'\n",
                "\n",
                "\n",
                "with grbl.Grbl('COM6') as transport:\n",
                "    plotter = plotter.Plotter(transport, capture_gcode=False)\n",
                "    plotter.reset(speed=3000, acceleration=3000)\n",
                "    #plotter.reset(speed=600, acceleration=600)\n",
                "    \n",
                "    #transport.debug = True\n",
                "    transport.run(gcodeFile, 1)\n",
                "    #time.sleep(6)\n",
                "    #transport.wait_for_idle()"
            ]
        },
        {
            "cell_type": "markdown",
            "metadata": {},
            "source": [
                "# Test Spiral"
            ]
        },
        {
            "cell_type": "code",
            "execution_count": null,
            "metadata": {},
            "outputs": [],
            "source": [
                "import time\n",
                "from utilities import constants\n",
                "from in_out import grbl\n",
                "from Study_rpi.code import plotter\n",
                "import importlib\n",
                "importlib.reload(plotter)\n",
                "\n",
                "gcodeFile = 'C:\\\\Dropbox\\\\Dev\\\\Bots\\\\GCode\\\\spiral1.ngc'\n",
                "\n",
                "with grbl.Grbl('COM6') as transport:\n",
                "    plotter = plotter.Plotter(transport, capture_gcode=False)\n",
                "    plotter.reset(speed=3000, acceleration=3000)\n",
                "    \n",
                "    #transport.debug = True\n",
                "    transport.run(gcodeFile, 3)\n",
                "    #time.sleep(6)\n",
                "    #transport.wait_for_idle()"
            ]
        },
        {
            "cell_type": "markdown",
            "metadata": {},
            "source": [
                "## Test streamer - Status: working"
            ]
        },
        {
            "cell_type": "code",
            "execution_count": null,
            "metadata": {},
            "outputs": [],
            "source": [
                "\n",
                "import time\n",
                "import importlib\n",
                "from in_out import grbl\n",
                "importlib.reload(grbl)\n",
                "\n",
                "#gcodeFile = 'C:\\\\Users\\\\Jeff\\\\OneDrive\\\\Dev\\\\Bots\\\\Src\\\\jandi\\\\in_out\\\\gcode_short.txt'\n",
                "gcodeFile = 'C:\\\\Users\\\\jeffb\\\\OneDrive\\\\Dev\\\\Bots\\\\Src\\\\Cbk-rpi\\\\misc\\\\to_startpos.txt'\n",
                "gcodeFile2 = 'C:\\\\Users\\\\Jeffb\\\\OneDrive\\\\Dev\\\\Bots\\\\Src\\\\CBk-rpi\\\\misc\\\\twitch1.txt'\n",
                "\n",
                "with grbl.Grbl('COM6') as transport:\n",
                "    #transport.debug = True\n",
                "    transport.home()\n",
                "    transport._serial.write(b'\\r\\n\\r\\n')\n",
                "    time.sleep(2)\n",
                "    transport.set_and_goto_startpos('X-50 Z-50 Y-40')\n",
                "    #transport.send_gcode('G54') # set work coordinate system\n",
                "    #transport.waitfor_idle()\n",
                "    #transport.run(gcodeFile, 1)\n",
                "    transport.run(gcodeFile2, 15)\n",
                "    transport.waitfor_idle()\n",
                "    print('done')\n",
                "    "
            ]
        },
        {
            "cell_type": "markdown",
            "metadata": {},
            "source": [
                "# Test Marlin"
            ]
        },
        {
            "cell_type": "code",
            "execution_count": 101,
            "metadata": {},
            "outputs": [
                {
                    "name": "stdout",
                    "output_type": "stream",
                    "text": [
                        "gcode=G1 G91 F1500\n",
                        "status msg = ok\n",
                        "gcode=G1 X-9 Y9\n",
                        "status msg = ok\n",
                        "gcode=G1 X9 Y-9\n",
                        "status msg = ok\n"
                    ]
                }
            ],
            "source": [
                "from in_out import grbl\n",
                "\n",
                "with grbl.Grbl('COM5') as transport:\n",
                "    transport.debug = True\n",
                "    transport.send_gcode('G1 G91 F1500')\n",
                "    # transport.send_gcode('M302 P1') # enable extruder\n",
                "    # transport.send_gcode('G92 E0')  # set extruder position to 0\n",
                "    transport.send_gcode('G1 X-9 Y9') # linear move\n",
                "    transport.send_gcode('G1 X9 Y-9') # linear move"
            ]
        },
        {
            "cell_type": "markdown",
            "metadata": {},
            "source": [
                "# Test Marlin Relative Move"
            ]
        },
        {
            "cell_type": "code",
            "execution_count": 102,
            "metadata": {},
            "outputs": [
                {
                    "name": "stdout",
                    "output_type": "stream",
                    "text": [
                        "gcode=G1 G91 F1500\n",
                        "status msg = ok\n",
                        "gcode=M120\n",
                        "status msg = ok\n",
                        "gcode=M211 S1\n",
                        "status msg = echo:Soft endstops: ON  Min:  X0.00 Y0.00 Z0.00   Max:  X235.00 Y235.00 Z250.00ok\n",
                        "gcode=G1 X45 Y30\n",
                        "status msg = ok\n"
                    ]
                }
            ],
            "source": [
                "from in_out import grbl\n",
                "\n",
                "with grbl.Grbl('COM5') as transport:\n",
                "    transport.debug = True\n",
                "    transport.send_gcode('G1 G91 F1500')    # set for relative move and feedrate\n",
                "    transport.send_gcode('M120')\n",
                "    transport.send_gcode('M211 S1')\n",
                "    transport.send_gcode('G1 X45 Y30') # linear move\n"
            ]
        },
        {
            "cell_type": "markdown",
            "metadata": {},
            "source": [
                "# Test Home"
            ]
        },
        {
            "cell_type": "code",
            "execution_count": 128,
            "metadata": {},
            "outputs": [
                {
                    "name": "stdout",
                    "output_type": "stream",
                    "text": [
                        "Press the limit switch and release it after 1/2 second\n",
                        "after sending home\n",
                        "ok\n",
                        "\n",
                        "gcode=G1 X10 Y10\n",
                        "status msg = ok\n"
                    ]
                }
            ],
            "source": [
                "import time\n",
                "from in_out import grbl\n",
                "\n",
                "# NB: The limit switch is high when open. Upon closing it goes low.\n",
                "\n",
                "with grbl.Grbl('COM5') as transport:\n",
                "    transport.debug = True\n",
                "    print('Press the limit switch and release it after 1/2 second')\n",
                "    #transport.send_gcode('G28 X')   # Homes the X axis. Doesn't return until switch is pressed\n",
                "    transport._serial.write(str.encode('G28' + '\\n'))\n",
                "    \n",
                "    print('after sending home')\n",
                "    response = ''\n",
                "\n",
                "    while True:\n",
                "        #response += transport._serial.read().decode('utf-8')\n",
                "        line = transport._serial.readline().decode('utf-8')\n",
                "        #time.sleep(0.05)\n",
                "        #print(response)\n",
                "        if 'ok' in line or 'Error' in line:\n",
                "            print(line)\n",
                "            break\n",
                "        \n",
                "        # if 'ok' in response or 'Error' in response:\n",
                "        #     print(response)\n",
                "        #     break\n",
                "    \n",
                "    # Move off of home\n",
                "    transport.send_gcode('G1 X10 Y10') # linear move\n",
                "    "
            ]
        }
    ],
    "metadata": {
        "interpreter": {
            "hash": "9257ff7a3019a40e6ec5025be0448d8ffad901714ba7e8522082b9b9e18d48c3"
        },
        "kernelspec": {
            "display_name": "Python 3.7.9 64-bit (windows store)",
            "language": "python",
            "name": "python3"
        },
        "language_info": {
            "codemirror_mode": {
                "name": "ipython",
                "version": 3
            },
            "file_extension": ".py",
            "mimetype": "text/x-python",
            "name": "python",
            "nbconvert_exporter": "python",
            "pygments_lexer": "ipython3",
            "version": "3.7.9"
        },
        "orig_nbformat": 4
    },
    "nbformat": 4,
    "nbformat_minor": 2
}

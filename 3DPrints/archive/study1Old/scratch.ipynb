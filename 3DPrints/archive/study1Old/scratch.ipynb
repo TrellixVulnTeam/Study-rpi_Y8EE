{
    "cells": [
        {
            "cell_type": "code",
            "execution_count": 5,
            "metadata": {},
            "outputs": [
                {
                    "name": "stdout",
                    "output_type": "stream",
                    "text": [
                        "hello world this is jeff chow!!\n"
                    ]
                }
            ],
            "source": [
                "fname = 'jeff'\n",
                "lname = 'chow'\n",
                "print(f'hello world this is {fname} {lname}!!')"
            ]
        },
        {
            "cell_type": "code",
            "execution_count": 15,
            "metadata": {},
            "outputs": [
                {
                    "data": {
                        "text/plain": [
                            "[2, 3]"
                        ]
                    },
                    "execution_count": 15,
                    "metadata": {},
                    "output_type": "execute_result"
                }
            ],
            "source": [
                "[b for b in range(4) if b > 1]"
            ]
        },
        {
            "cell_type": "code",
            "execution_count": 39,
            "metadata": {},
            "outputs": [
                {
                    "name": "stdout",
                    "output_type": "stream",
                    "text": [
                        "[2, 3, 'abc']\n"
                    ]
                },
                {
                    "data": {
                        "text/plain": [
                            "[2, 3, 'abc']"
                        ]
                    },
                    "execution_count": 39,
                    "metadata": {},
                    "output_type": "execute_result"
                }
            ],
            "source": [
                "lc = [b for b in range(4) if b > 1]\n",
                "lc.append('abc')\n",
                "print(lc)\n",
                "lc"
            ]
        },
        {
            "cell_type": "code",
            "execution_count": 37,
            "metadata": {},
            "outputs": [
                {
                    "name": "stdout",
                    "output_type": "stream",
                    "text": [
                        "[1, 2, 3, 4, 5, 6]\n"
                    ]
                },
                {
                    "data": {
                        "text/plain": [
                            "[4, 5, 6, 1, 2, 3, 4, 5, 6]"
                        ]
                    },
                    "execution_count": 37,
                    "metadata": {},
                    "output_type": "execute_result"
                }
            ],
            "source": [
                "list1 = []\n",
                "list1 = [1,2,3]\n",
                "list2 = [4, 5, 6]\n",
                "list1.extend(list2)\n",
                "print(list1)\n",
                "list2 + list1"
            ]
        },
        {
            "cell_type": "code",
            "execution_count": 33,
            "metadata": {},
            "outputs": [
                {
                    "data": {
                        "text/plain": [
                            "[1, 2, 3, 4, 5, 6]"
                        ]
                    },
                    "execution_count": 33,
                    "metadata": {},
                    "output_type": "execute_result"
                }
            ],
            "source": [
                "list1"
            ]
        },
        {
            "cell_type": "code",
            "execution_count": 2,
            "metadata": {},
            "outputs": [
                {
                    "data": {
                        "text/plain": [
                            "{'a': 1, 'b': 2, 'c': 3, 1: 'a', 2: 'b', 3: 'c'}"
                        ]
                    },
                    "execution_count": 2,
                    "metadata": {},
                    "output_type": "execute_result"
                }
            ],
            "source": [
                "x={'a':1, 'b':2, 'c':3}\n",
                "y={1:'a', 2:'b', 3:'c'}\n",
                "z = {**x, **y}\n",
                "z"
            ]
        }
    ],
    "metadata": {
        "interpreter": {
            "hash": "ab919eb6f4fdb3cc4d946f778088925dbcb5d1a2d71147450f362cd5d0d6d8a8"
        },
        "kernelspec": {
            "display_name": "Python 3.7.8 64-bit ('venv': venv)",
            "name": "python3"
        },
        "language_info": {
            "codemirror_mode": {
                "name": "ipython",
                "version": 3
            },
            "file_extension": ".py",
            "mimetype": "text/x-python",
            "name": "python",
            "nbconvert_exporter": "python",
            "pygments_lexer": "ipython3",
            "version": "3.7.8"
        },
        "orig_nbformat": 4
    },
    "nbformat": 4,
    "nbformat_minor": 2
}

{
    "cells": [
        {
            "cell_type": "code",
            "execution_count": 5,
            "source": [
                "fname = 'jeff'\n",
                "lname = 'chow'\n",
                "print(f'hello world this is {fname} {lname}!!')"
            ],
            "outputs": [
                {
                    "output_type": "stream",
                    "name": "stdout",
                    "text": [
                        "hello world this is jeff chow!!\n"
                    ]
                }
            ],
            "metadata": {}
        },
        {
            "cell_type": "code",
            "execution_count": 15,
            "source": [
                "[b for b in range(4) if b > 1]"
            ],
            "outputs": [
                {
                    "output_type": "execute_result",
                    "data": {
                        "text/plain": [
                            "[2, 3]"
                        ]
                    },
                    "metadata": {},
                    "execution_count": 15
                }
            ],
            "metadata": {}
        },
        {
            "cell_type": "code",
            "execution_count": 39,
            "source": [
                "lc = [b for b in range(4) if b > 1]\n",
                "lc.append('abc')\n",
                "print(lc)\n",
                "lc"
            ],
            "outputs": [
                {
                    "output_type": "stream",
                    "name": "stdout",
                    "text": [
                        "[2, 3, 'abc']\n"
                    ]
                },
                {
                    "output_type": "execute_result",
                    "data": {
                        "text/plain": [
                            "[2, 3, 'abc']"
                        ]
                    },
                    "metadata": {},
                    "execution_count": 39
                }
            ],
            "metadata": {}
        },
        {
            "cell_type": "code",
            "execution_count": 37,
            "source": [
                "list1 = []\n",
                "list1 = [1,2,3]\n",
                "list2 = [4, 5, 6]\n",
                "list1.extend(list2)\n",
                "print(list1)\n",
                "list2 + list1"
            ],
            "outputs": [
                {
                    "output_type": "stream",
                    "name": "stdout",
                    "text": [
                        "[1, 2, 3, 4, 5, 6]\n"
                    ]
                },
                {
                    "output_type": "execute_result",
                    "data": {
                        "text/plain": [
                            "[4, 5, 6, 1, 2, 3, 4, 5, 6]"
                        ]
                    },
                    "metadata": {},
                    "execution_count": 37
                }
            ],
            "metadata": {}
        },
        {
            "cell_type": "code",
            "execution_count": 33,
            "source": [
                "list1"
            ],
            "outputs": [
                {
                    "output_type": "execute_result",
                    "data": {
                        "text/plain": [
                            "[1, 2, 3, 4, 5, 6]"
                        ]
                    },
                    "metadata": {},
                    "execution_count": 33
                }
            ],
            "metadata": {}
        },
        {
            "cell_type": "code",
            "execution_count": 2,
            "source": [
                "x={'a':1, 'b':2, 'c':3}\n",
                "y={1:'a', 2:'b', 3:'c'}\n",
                "z = {**x, **y}\n",
                "z"
            ],
            "outputs": [
                {
                    "output_type": "execute_result",
                    "data": {
                        "text/plain": [
                            "{'a': 1, 'b': 2, 'c': 3, 1: 'a', 2: 'b', 3: 'c'}"
                        ]
                    },
                    "metadata": {},
                    "execution_count": 2
                }
            ],
            "metadata": {}
        },
        {
            "cell_type": "markdown",
            "source": [
                "\n",
                "# Running Grbl\n",
                "\n"
            ],
            "metadata": {}
        },
        {
            "cell_type": "code",
            "execution_count": 13,
            "source": [
                "import serial\n",
                "s = serial.Serial('/dev/ttyUSB1', 115200)\n",
                "line = '$X\\nG1\\nF12000\\n'\n",
                "s.write(line.encode())\n",
                "out = s.readline().strip().decode('utf')\n",
                "print(out)\n",
                "line1 = 'X1200\\n'\n",
                "s.write(line1.encode())\n",
                "out = s.readline().strip().decode('utf')\n",
                "print(out)"
            ],
            "outputs": [
                {
                    "output_type": "stream",
                    "name": "stdout",
                    "text": [
                        "\n",
                        "Grbl 0.9j ['$' for help]\n"
                    ]
                }
            ],
            "metadata": {}
        },
        {
            "cell_type": "code",
            "execution_count": null,
            "source": [],
            "outputs": [],
            "metadata": {}
        },
        {
            "cell_type": "markdown",
            "source": [
                "# Home"
            ],
            "metadata": {}
        },
        {
            "cell_type": "code",
            "execution_count": 1,
            "source": [
                "import serial\n",
                "s = serial.Serial('/dev/ttyUSB0', 115200)\n",
                "line = '$X\\n$H\\n'\n",
                "s.write(line.encode())\n",
                "out = s.readline().strip().decode('utf')\n",
                "print(out)\n"
            ],
            "outputs": [
                {
                    "output_type": "stream",
                    "name": "stdout",
                    "text": [
                        "[MSG:Caution: Unlocked]\n"
                    ]
                }
            ],
            "metadata": {}
        }
    ],
    "metadata": {
        "orig_nbformat": 4,
        "language_info": {
            "name": "python",
            "version": "3.7.3",
            "mimetype": "text/x-python",
            "codemirror_mode": {
                "name": "ipython",
                "version": 3
            },
            "pygments_lexer": "ipython3",
            "nbconvert_exporter": "python",
            "file_extension": ".py"
        },
        "kernelspec": {
            "name": "python3",
            "display_name": "Python 3.7.3 32-bit"
        },
        "interpreter": {
            "hash": "916dbcbb3f70747c44a77c7bcd40155683ae19c65e1c03b4aa3499c5328201f1"
        }
    },
    "nbformat": 4,
    "nbformat_minor": 2
}